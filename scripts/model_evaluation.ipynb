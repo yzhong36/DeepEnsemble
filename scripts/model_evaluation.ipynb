{
 "cells": [
  {
   "cell_type": "code",
   "execution_count": 1,
   "metadata": {},
   "outputs": [
    {
     "name": "stderr",
     "output_type": "stream",
     "text": [
      "2025-01-08 00:53:43.541767: I tensorflow/core/platform/cpu_feature_guard.cc:193] This TensorFlow binary is optimized with oneAPI Deep Neural Network Library (oneDNN) to use the following CPU instructions in performance-critical operations:  SSE4.1 SSE4.2 AVX AVX2 AVX512F AVX512_VNNI FMA\n",
      "To enable them in other operations, rebuild TensorFlow with the appropriate compiler flags.\n",
      "2025-01-08 00:53:43.679696: I tensorflow/core/util/util.cc:169] oneDNN custom operations are on. You may see slightly different numerical results due to floating-point round-off errors from different computation orders. To turn them off, set the environment variable `TF_ENABLE_ONEDNN_OPTS=0`.\n"
     ]
    }
   ],
   "source": [
    "## set wd to the Git root directory\n",
    "import os\n",
    "os.chdir(\"..\")\n",
    "##\n",
    "from src.models import sub_model\n",
    "from src.utils import model_utils, model_evaluation\n",
    "from gensim.models import KeyedVectors\n",
    "import numpy as np\n",
    "import tensorflow as tf\n",
    "import pandas as pd\n",
    "from sklearn.metrics import PrecisionRecallDisplay\n",
    "import matplotlib.pyplot as plt"
   ]
  },
  {
   "cell_type": "code",
   "execution_count": 2,
   "metadata": {},
   "outputs": [
    {
     "name": "stderr",
     "output_type": "stream",
     "text": [
      "2025-01-08 00:53:54.039083: I tensorflow/core/platform/cpu_feature_guard.cc:193] This TensorFlow binary is optimized with oneAPI Deep Neural Network Library (oneDNN) to use the following CPU instructions in performance-critical operations:  SSE4.1 SSE4.2 AVX AVX2 AVX512F AVX512_VNNI FMA\n",
      "To enable them in other operations, rebuild TensorFlow with the appropriate compiler flags.\n",
      "2025-01-08 00:53:54.158989: I tensorflow/core/common_runtime/gpu/gpu_device.cc:1616] Created device /job:localhost/replica:0/task:0/device:GPU:0 with 22987 MB memory:  -> device: 0, name: Quadro RTX 6000, pci bus id: 0000:3f:00.0, compute capability: 7.5\n"
     ]
    }
   ],
   "source": [
    "model_save_path = \"data/external/models\" \n",
    "file_path = \"data/processed\"\n",
    "\n",
    "data_x = pd.read_csv(file_path + \"/all_U2_U12_x.txt.gz\", compression='gzip', sep = \" \", header = None)\n",
    "data_x_5_dist = pd.read_csv(file_path + \"/all_U2_U12_x_5_distance.txt.gz\", compression='gzip', sep = \" \", header = None)\n",
    "data_x_3_dist = pd.read_csv(file_path + \"/all_U2_U12_x_3_distance.txt.gz\", compression='gzip', sep = \" \", header = None)\n",
    "data_y = pd.read_csv(file_path + \"/all_U2_U12_y.txt.gz\", compression='gzip', sep = \" \", header = None)\n",
    "data_type = pd.read_csv(file_path + \"/all_U2_U12_info.txt.gz\", compression='gzip', sep = \" \", header = 0)\n",
    "data_y_target = data_y.to_numpy()\n",
    "data_y_target = tf.cast(data_y_target, dtype = tf.float32)\n",
    "\n",
    "## OH encoding\n",
    "data_x_oh = tf.convert_to_tensor(data_x.iloc[:,0:70].to_numpy(), dtype = tf.string)\n",
    "\n",
    "string2int_layer = tf.keras.layers.StringLookup(vocabulary = [\"A\", \"T\", \"C\", \"G\"], output_mode='int')\n",
    "data_x_oh = string2int_layer(data_x_oh)\n",
    "data_x_oh = tf.one_hot(data_x_oh - 1, depth = 4, on_value = 1, off_value = 0)\n",
    "data_x_oh = tf.cast(data_x_oh, dtype = tf.float32)\n",
    "##\n",
    "\n",
    "## Kmers encoding\n",
    "data_x_kmers = model_utils.kmers_join(data_x, kmer = 3)\n",
    "\n",
    "vocab_tmp = []\n",
    "vocab = []\n",
    "for one in \"ATCGN\":\n",
    "    for two in \"ATCGN\":\n",
    "        for three in \"ATCGN\":\n",
    "            vocab_tmp.append(one + two + three)\n",
    "\n",
    "for i in vocab_tmp:\n",
    "    if i[1] != \"N\":\n",
    "        if i[0] != \"N\" and i[2] != \"N\":\n",
    "            vocab.append(i)\n",
    "        if i[0] == \"N\" and i[2] != \"N\":\n",
    "            vocab.append(i)\n",
    "        if i[0] != \"N\" and i[2] == \"N\":\n",
    "            vocab.append(i)\n",
    "\n",
    "string2int_embed_layer = tf.keras.layers.StringLookup(vocabulary = vocab, output_mode='int')\n",
    "data_x_kmers_embedding = string2int_embed_layer(data_x_kmers) - 1\n",
    "##\n",
    "\n",
    "## word2vec encoding\n",
    "wv = KeyedVectors.load(model_save_path + \"/word2vec_gencode_v19.3mers\", mmap='r')\n",
    "data_x_word2vec_embedding = []\n",
    "for row in data_x_kmers:\n",
    "    tmp = []\n",
    "    for key in row:\n",
    "        tmp.append(wv[key])\n",
    "    data_x_word2vec_embedding.append(tmp)\n",
    "\n",
    "data_x_word2vec_embedding = np.array(data_x_word2vec_embedding)\n",
    "##\n",
    "\n",
    "u2_index = (data_type.iloc[:,2] == \"U2\").to_numpy()\n",
    "u12_index = (data_type.iloc[:,2] == \"U12\").to_numpy()\n",
    "test_index = (data_type.iloc[:,3] == \"test\").to_numpy()\n",
    "\n",
    "## test\n",
    "X_add_distance_U2_test = np.concatenate((\n",
    "                          data_x_5_dist.to_numpy().reshape((-1, 70, 1))[np.logical_and(test_index, u2_index)],\n",
    "                          data_x_3_dist.to_numpy().reshape((-1, 70, 1))[np.logical_and(test_index, u2_index)]),\n",
    "                          axis = -1)\n",
    "\n",
    "X_add_distance_U12_test = np.concatenate((\n",
    "                          data_x_5_dist.to_numpy().reshape((-1, 70, 1))[np.logical_and(test_index, u12_index)],\n",
    "                          data_x_3_dist.to_numpy().reshape((-1, 70, 1))[np.logical_and(test_index, u12_index)]),\n",
    "                          axis = -1)                        \n",
    "\n",
    "X_test_U2_oh = data_x_oh[np.logical_and(test_index, u2_index)]\n",
    "X_test_U2_kmers = data_x_kmers_embedding[np.logical_and(test_index, u2_index)]\n",
    "X_test_U2_word2vec = data_x_word2vec_embedding[np.logical_and(test_index, u2_index)]\n",
    "\n",
    "X_test_U12_oh = data_x_oh[np.logical_and(test_index, u12_index)]\n",
    "X_test_U12_kmers = data_x_kmers_embedding[np.logical_and(test_index, u12_index)]\n",
    "X_test_U12_word2vec = data_x_word2vec_embedding[np.logical_and(test_index, u12_index)]\n",
    "\n",
    "y_test_U2 = tf.reshape(data_y_target, (-1, 70, 1))[np.logical_and(test_index, u2_index)]\n",
    "y_test_U12 = tf.reshape(data_y_target, (-1, 70, 1))[np.logical_and(test_index, u12_index)]\n",
    "##"
   ]
  },
  {
   "cell_type": "code",
   "execution_count": 3,
   "metadata": {},
   "outputs": [
    {
     "name": "stdout",
     "output_type": "stream",
     "text": [
      "(13942, 70, 4)\n",
      "(13942, 70)\n",
      "(13942, 70, 100)\n",
      "(13942, 70, 2)\n",
      "(13942, 70, 1)\n",
      "\n",
      "(56, 70, 4)\n",
      "(56, 70)\n",
      "(56, 70, 100)\n",
      "(56, 70, 2)\n",
      "(56, 70, 1)\n"
     ]
    }
   ],
   "source": [
    "print(X_test_U2_oh.shape)\n",
    "print(X_test_U2_kmers.shape)\n",
    "print(X_test_U2_word2vec.shape)\n",
    "print(X_add_distance_U2_test.shape)\n",
    "print(y_test_U2.shape)\n",
    "print()\n",
    "print(X_test_U12_oh.shape)\n",
    "print(X_test_U12_kmers.shape)\n",
    "print(X_test_U12_word2vec.shape)\n",
    "print(X_add_distance_U12_test.shape)\n",
    "print(y_test_U12.shape)"
   ]
  },
  {
   "cell_type": "code",
   "execution_count": 4,
   "metadata": {},
   "outputs": [
    {
     "name": "stderr",
     "output_type": "stream",
     "text": [
      "2025-01-08 00:54:27.597687: I tensorflow/stream_executor/cuda/cuda_dnn.cc:384] Loaded cuDNN version 8800\n",
      "2025-01-08 00:54:27.733121: I tensorflow/core/platform/default/subprocess.cc:304] Start cannot spawn child process: No such file or directory\n",
      "2025-01-08 00:54:27.740978: I tensorflow/core/platform/default/subprocess.cc:304] Start cannot spawn child process: No such file or directory\n",
      "2025-01-08 00:54:27.741012: W tensorflow/stream_executor/gpu/asm_compiler.cc:80] Couldn't get ptxas version string: INTERNAL: Couldn't invoke ptxas --version\n",
      "2025-01-08 00:54:27.743493: I tensorflow/core/platform/default/subprocess.cc:304] Start cannot spawn child process: No such file or directory\n",
      "2025-01-08 00:54:27.743534: W tensorflow/stream_executor/gpu/redzone_allocator.cc:314] INTERNAL: Failed to launch ptxas\n",
      "Relying on driver to perform ptx compilation. \n",
      "Modify $PATH to customize ptxas location.\n",
      "This message will be only logged once.\n"
     ]
    }
   ],
   "source": [
    "X_test_U2_pred = model_evaluation.model_pred(model_path = [model_save_path + '/all_U2_oh.h5', \n",
    "                                                           model_save_path + '/all_U2_kmers.h5', \n",
    "                                                           model_save_path + '/all_U2_word2vec.h5'], \n",
    "                                             input = [(X_test_U2_oh, X_add_distance_U2_test), \n",
    "                                                      (X_test_U2_kmers, X_add_distance_U2_test), \n",
    "                                                      (X_test_U2_word2vec, X_add_distance_U2_test)], \n",
    "                                             ensemble = True, ensemble_weight = 1/3, \n",
    "                                             custom_objects = {'SelfAttention':sub_model.SelfAttention})"
   ]
  },
  {
   "cell_type": "code",
   "execution_count": 5,
   "metadata": {},
   "outputs": [],
   "source": [
    "X_test_U12_pred = model_evaluation.model_pred(model_path = [model_save_path + '/all_U12_oh.h5', \n",
    "                                                            model_save_path + '/all_U12_kmers.h5', \n",
    "                                                            model_save_path + '/all_U12_word2vec.h5'], \n",
    "                                              input = [(X_test_U12_oh, X_add_distance_U12_test), \n",
    "                                                       (X_test_U12_kmers, X_add_distance_U12_test), \n",
    "                                                       (X_test_U12_word2vec, X_add_distance_U12_test)], \n",
    "                                              ensemble = True, ensemble_weight = 1/3, \n",
    "                                              custom_objects = {'SelfAttention':sub_model.SelfAttention})"
   ]
  },
  {
   "cell_type": "code",
   "execution_count": 6,
   "metadata": {},
   "outputs": [
    {
     "name": "stdout",
     "output_type": "stream",
     "text": [
      "(13942, 70, 1)\n",
      "(56, 70, 1)\n"
     ]
    }
   ],
   "source": [
    "print(X_test_U2_pred.shape)\n",
    "print(X_test_U12_pred.shape)"
   ]
  },
  {
   "cell_type": "code",
   "execution_count": 7,
   "metadata": {},
   "outputs": [
    {
     "data": {
      "image/png": "[encoded data removed]",
      "text/plain": [
       "<Figure size 640x480 with 1 Axes>"
      ]
     },
     "metadata": {},
     "output_type": "display_data"
    }
   ],
   "source": [
    "ax = plt.gca()\n",
    "\n",
    "PrecisionRecallDisplay.from_predictions(y_test_U2.numpy().reshape(-1),\n",
    "                                        X_test_U2_pred.reshape(-1),\n",
    "                                        ax = ax, \n",
    "                                        name='U2 BPs')\n",
    "\n",
    "PrecisionRecallDisplay.from_predictions(y_test_U12.numpy().reshape(-1),\n",
    "                                        X_test_U12_pred.reshape(-1),\n",
    "                                        ax = ax, \n",
    "                                        name='U12 BPs')\n",
    "plt.show()                                    "
   ]
  }
 ],
 "metadata": {
  "kernelspec": {
   "display_name": "Python 3",
   "language": "python",
   "name": "python3"
  },
  "language_info": {
   "codemirror_mode": {
    "name": "ipython",
    "version": 3
   },
   "file_extension": ".py",
   "mimetype": "text/x-python",
   "name": "python",
   "nbconvert_exporter": "python",
   "pygments_lexer": "ipython3",
   "version": "3.9.15"
  }
 },
 "nbformat": 4,
 "nbformat_minor": 2
}
